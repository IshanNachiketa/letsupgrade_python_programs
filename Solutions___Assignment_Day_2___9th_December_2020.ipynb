{
  "nbformat": 4,
  "nbformat_minor": 0,
  "metadata": {
    "colab": {
      "name": "Solutions | Assignment Day 2 | 9th December 2020.ipynb",
      "provenance": []
    },
    "kernelspec": {
      "name": "python3",
      "display_name": "Python 3"
    }
  },
  "cells": [
    {
      "cell_type": "markdown",
      "metadata": {
        "id": "EjUTL62x2PE5"
      },
      "source": [
        "**Question 1 : 5 Different functions of the String in Python.**"
      ]
    },
    {
      "cell_type": "code",
      "metadata": {
        "colab": {
          "base_uri": "https://localhost:8080/"
        },
        "id": "BgwddQbS1yph",
        "outputId": "b6b28ea8-6fb6-401b-f6a4-b5a5eddf1fd2"
      },
      "source": [
        "txt = \"apple, banana, cherry\"\r\n",
        "print(txt) #print the given string\r\n",
        "\r\n",
        "#program no. 1\r\n",
        "x = txt.rsplit(\", \") #splits string from the right at the specified separator\r\n",
        "print(x)\r\n",
        "\r\n",
        "#program no. 2\r\n",
        "txt = \"Hello my friends\"\r\n",
        "x = txt.upper() #print the given list in upper case\r\n",
        "print(x)\r\n",
        "\r\n",
        "#program no. 3\r\n",
        "txt = \"Hello, And Welcome To My First Assignment.\"\r\n",
        "x = txt.istitle() #Check if each word start with an upper case letter:\r\n",
        "print(x)\r\n",
        "\r\n",
        "#program no. 4\r\n",
        "txt = \"I am a python programmer.\"\r\n",
        "x = txt.partition(\"bananas\") #Returns a tuple where the string is parted into three parts\r\n",
        "print(x)\r\n",
        "\r\n",
        "#program no. 5\r\n",
        "txt = \"Hello, welcome to my python programming.\"\r\n",
        "x = txt.index(\"welcome\") #Searches the string for a specified value and returns the position of where it was found\r\n",
        "print(x)"
      ],
      "execution_count": 15,
      "outputs": [
        {
          "output_type": "stream",
          "text": [
            "apple, banana, cherry\n",
            "['apple', 'banana', 'cherry']\n",
            "HELLO MY FRIENDS\n",
            "True\n",
            "('I am a python programmer.', '', '')\n",
            "7\n"
          ],
          "name": "stdout"
        }
      ]
    },
    {
      "cell_type": "markdown",
      "metadata": {
        "id": "q3gIFBtn2hDN"
      },
      "source": [
        "**Question 2 : 5 Different functions of the List object in Python**"
      ]
    },
    {
      "cell_type": "code",
      "metadata": {
        "colab": {
          "base_uri": "https://localhost:8080/"
        },
        "id": "yVPPpCcT2gHV",
        "outputId": "79513521-ec56-4894-a79d-d3e70a185b99"
      },
      "source": [
        "li=[1,2,3,4,5,6]\r\n",
        "print(li) #print the given list\r\n",
        "\r\n",
        "#program no. 1\r\n",
        "li.pop() #removes the last item\r\n",
        "print(li)\r\n",
        "\r\n",
        "#program no.2\r\n",
        "li.append(2) #add given value at last index\r\n",
        "print(li)\r\n",
        "\r\n",
        "#program no. 3\r\n",
        "print(li[1:3]) #will return the elements from the 1st index to the 2nd index\r\n",
        "print(li)\r\n",
        "\r\n",
        "li.remove(4) #remove the given element\r\n",
        "print(li)\r\n",
        "\r\n",
        "#program no. 4\r\n",
        "print(li.count(2)) # total count of given no. in list\r\n",
        "li.reverse()\r\n",
        "print(li)\r\n",
        "\r\n",
        "#program no. 5\r\n",
        "print(\"\\nlist elements are:- \")\r\n",
        "for i in li:\r\n",
        "    print(i)"
      ],
      "execution_count": 18,
      "outputs": [
        {
          "output_type": "stream",
          "text": [
            "[1, 2, 3, 4, 5]\n",
            "[1, 2, 3, 4]\n",
            "[1, 2, 3, 4, 2]\n",
            "[2, 3]\n",
            "[1, 2, 3, 4, 2]\n",
            "[1, 2, 3, 2]\n",
            "2\n",
            "[2, 3, 2, 1]\n",
            "\n",
            "list elements are:- \n",
            "2\n",
            "3\n",
            "2\n",
            "1\n"
          ],
          "name": "stdout"
        }
      ]
    },
    {
      "cell_type": "markdown",
      "metadata": {
        "id": "KqOimd6R2xxx"
      },
      "source": [
        "**Question 3 : Experiment with at least 5 default functions of Dictionary.**"
      ]
    },
    {
      "cell_type": "code",
      "metadata": {
        "colab": {
          "base_uri": "https://localhost:8080/"
        },
        "id": "jAo9_3iS9QCr",
        "outputId": "88c146d0-27a9-4a6c-fa1c-4668ece891e5"
      },
      "source": [
        "#program no. 1\r\n",
        "my_dict={1:'Ishan',2:'Nachiketa',3:'Python'}\r\n",
        "x=my_dict.setdefault(1) #return the given key element\r\n",
        "print(x)\r\n",
        "\r\n",
        "#program no. 2\r\n",
        "y=my_dict.setdefault(4,\"Programmer\") #add the new key and value to dictionary and return the key value\r\n",
        "print(y)\r\n",
        "\r\n",
        "#program no. 3\r\n",
        "print(len(my_dict)) #print length of given dictionary\r\n",
        "\r\n",
        "#program no. 4\r\n",
        "my_dict={\"Day\":\"Sun\",\"Night\":\"Moon\"}\r\n",
        "a=my_dict.setdefault(\"Day\") #acessing the default value from the given key\r\n",
        "print(a)\r\n",
        "print(my_dict)\r\n",
        "\r\n",
        "#program no. 5\r\n",
        "dict = {'Name': 'Ishan', 'Age': 21, 'Gender': 'Male'}\r\n",
        "a=dict.clear();     # remove all entries in dict\r\n",
        "print(a)"
      ],
      "execution_count": 31,
      "outputs": [
        {
          "output_type": "stream",
          "text": [
            "Ishan\n",
            "Programmer\n",
            "4\n",
            "Sun\n",
            "{'Day': 'Sun', 'Night': 'Moon'}\n",
            "None\n"
          ],
          "name": "stdout"
        }
      ]
    }
  ]
}